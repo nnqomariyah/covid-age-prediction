{
 "cells": [
  {
   "cell_type": "code",
   "execution_count": 3,
   "metadata": {},
   "outputs": [
    {
     "name": "stdout",
     "output_type": "stream",
     "text": [
      "predicted value= [61.398827 61.46029  84.66018  76.76472  60.432426]\n",
      "actual value=\n",
      "          AGE\n",
      "0  62.416667\n",
      "1  60.166667\n",
      "2  85.500000\n",
      "3  80.166667\n",
      "4  64.833333\n"
     ]
    }
   ],
   "source": [
    "import pandas as pd\n",
    "from xgboost import XGBRegressor\n",
    "import warnings\n",
    "warnings.filterwarnings(action='ignore', category=UserWarning)\n",
    "\n",
    "xgb_model = XGBRegressor()\n",
    "xgb_model.load_model(\"XGBRe_model.json\")\n",
    "\n",
    "data=pd.read_csv('data.csv')\n",
    "actual=pd.read_csv('age.csv')\n",
    "print('predicted value=',xgb_model.predict(data))\n",
    "print('actual value=\\n',actual)"
   ]
  },
  {
   "cell_type": "code",
   "execution_count": null,
   "metadata": {},
   "outputs": [],
   "source": []
  }
 ],
 "metadata": {
  "kernelspec": {
   "display_name": "Python 3",
   "language": "python",
   "name": "python3"
  },
  "language_info": {
   "codemirror_mode": {
    "name": "ipython",
    "version": 3
   },
   "file_extension": ".py",
   "mimetype": "text/x-python",
   "name": "python",
   "nbconvert_exporter": "python",
   "pygments_lexer": "ipython3",
   "version": "3.7.4"
  }
 },
 "nbformat": 4,
 "nbformat_minor": 4
}
